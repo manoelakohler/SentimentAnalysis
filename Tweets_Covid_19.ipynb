{
 "nbformat": 4,
 "nbformat_minor": 0,
 "metadata": {
  "colab": {
   "name": "Tweets_Covid_19Alternativa.ipynb",
   "provenance": [],
   "collapsed_sections": []
  },
  "kernelspec": {
   "name": "python3",
   "display_name": "Python 3"
  }
 },
 "cells": [
  {
   "cell_type": "markdown",
   "metadata": {
    "id": "QpdzZ5uwAXgp"
   },
   "source": [
    "#Usar biblioteca tweepy para recuperar tweets com a palavra 'Covid-19'\n",
    "\n",
    "Repositório: \n",
    "\n",
    "Script criado pelo Laboratório de inteligência Artificial da PUC-Rio.\n",
    "\n",
    "Assunto: Análise de sentimentos em tweets em inglês sobre o tópico 'coronavirus', para ser apresentado na série de palestras sobre como a Inteligência Artificial é capaz de ajudar neste momento de pandemia, do curso de pós graduação BIMASTER (https://bit.ly/ia-puc-rio).\n",
    "\n",
    "Palestras gravadas podem ser encontradas no link http://www.iacontracovid.com.br/palestras/\n",
    "\n",
    "Aplicações desenvolvidas pelo laboratório podem ser testadas e avaliadas no link http://www.iacontracovid.com.br\n",
    "\n",
    "*TweetPy: http://docs.tweepy.org/en/v3.5.0/index.html\n",
    "\n",
    "OBS: alternativa à biblioteca Twinty, que se encontra instável em função do bloqueio de IPs por parte do Twitter.\n",
    "\n",
    "*Análise de sentimentos pode ser encontrada no script 'Tweets_Covid-19_AnalideSentimentos.ipynb'"
   ]
  },
  {
   "cell_type": "code",
   "metadata": {
    "id": "JlNkbWlXe_N0"
   },
   "source": [
    "# Instala biblioteca\n",
    "!pip install tweepy\n",
    "import os\n",
    "import tweepy as tw\n",
    "import pandas as pd"
   ],
   "execution_count": null,
   "outputs": []
  },
  {
   "cell_type": "code",
   "metadata": {
    "id": "zr5EN223hObI"
   },
   "source": [
    "# Mapeia o drive para ao final salvar o arquivo com os tweets\n",
    "from google.colab import drive\n",
    "drive.mount('/content/drive')\n",
    "import os\n",
    "workdir_path = '/content/drive/My Drive/covid/'  # Inserir o local da pasta onde estão os arquivos de entrada (treino e teste)\n",
    "os.chdir(workdir_path)"
   ],
   "execution_count": null,
   "outputs": []
  },
  {
   "cell_type": "code",
   "metadata": {
    "id": "AikRSMXRESph"
   },
   "source": [
    "!ls"
   ],
   "execution_count": null,
   "outputs": []
  },
  {
   "cell_type": "code",
   "metadata": {
    "id": "8Z-bYMaSRVWo"
   },
   "source": [
    "# Twitter API\n",
    "consumer_key = ''\n",
    "consumer_secret = ''\n",
    "token = ''\n",
    "token_secret = ''\n",
    "\n",
    "auth = tw.OAuthHandler(consumer_key, consumer_secret)\n",
    "auth.set_access_token(token, token_secret)\n",
    "api = tw.API(auth, wait_on_rate_limit=True)"
   ],
   "execution_count": null,
   "outputs": []
  },
  {
   "cell_type": "code",
   "metadata": {
    "id": "SMUCdCrhKLpa"
   },
   "source": [
    "# Define o intervalo de tempo para busca de tweets\n",
    "from datetime import date, timedelta\n",
    "\n",
    "delta = timedelta(days=9)        # Intervalo para busca\n",
    "start_date = date(2020, 10, 1)   # China notificou OMS. WHO announced “COVID-19” as the name of this new disease on 11 February 2020.\n",
    "start_date -= delta\n",
    "search_term = \"coronavirus\"\n",
    "limit = 5\n",
    "\n",
    "# Inicializa dataframe vazio para salvar todos os tweets\n",
    "col_names =  [\"date\", \"tweet\", \"username\", \"retweet\", \"nlikes\", \"nreplies\", \"nretweets\", \"near\"]\n",
    "tweets_dataframe  = pd.DataFrame(columns = col_names)"
   ],
   "execution_count": null,
   "outputs": []
  },
  {
   "cell_type": "code",
   "metadata": {
    "id": "WTaH7ZBlKetT"
   },
   "source": [
    "# define intervalo de datas   \n",
    "date_string = start_date.strftime(\"%Y-%m-%d\")\n",
    "\n",
    "# busca tweets no intervalo definido\n",
    "tweets = tw.Cursor(api.search, q=search_term, lang=\"en\", since=start_date).items(limit)\n",
    "tweets_info = [[tweet.created_at, tweet.text, tweet.user.screen_name, tweet.retweeted, tweet.favorite_count, tweet.in_reply_to_status_id, tweet.retweet_count, tweet.user.location] for tweet in tweets]\n",
    "\n",
    "# Extrai um dataframe\n",
    "df = pd.DataFrame(data=tweets_info, columns=['date', 'tweet', 'username', 'retweet', 'nlikes', 'nreplies', 'nretweets', 'near'])\n",
    "\n",
    "if not df.empty:\n",
    "  df = df[col_names]\n",
    "\n",
    "  # Concatena com dataframe final\n",
    "  tweets_dataframe = tweets_dataframe.append(df)"
   ],
   "execution_count": null,
   "outputs": []
  },
  {
   "cell_type": "code",
   "metadata": {
    "id": "71vTl4Z2UMvq"
   },
   "source": [
    "# visualizar dataframe\n",
    "tweets_dataframe.head()"
   ],
   "execution_count": null,
   "outputs": []
  },
  {
   "cell_type": "code",
   "metadata": {
    "id": "Emt0QU1xUOY0"
   },
   "source": [
    "# shape da base de dados\n",
    "tweets_dataframe.shape"
   ],
   "execution_count": null,
   "outputs": []
  },
  {
   "cell_type": "code",
   "metadata": {
    "id": "3nW4lu5cjQ0Q"
   },
   "source": [
    "# Salva dataframe em um arquivo csv\n",
    "tweets_dataframe.to_csv('tweets_coronavirus.csv')"
   ],
   "execution_count": null,
   "outputs": []
  },
  {
   "cell_type": "code",
   "metadata": {
    "id": "LWM_V8uvWQwx"
   },
   "source": [
    "tweets_dataframe[tweets_dataframe[nreplies] ]"
   ],
   "execution_count": null,
   "outputs": []
  }
 ]
}